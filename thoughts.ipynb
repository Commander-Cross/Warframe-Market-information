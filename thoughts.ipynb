{
 "cells": [
  {
   "attachments": {},
   "cell_type": "markdown",
   "metadata": {},
   "source": [
    "# Warframe thoughts \n",
    "\n",
    "- get a list of every item\n",
    "- sort through every item, and get top X (10?) lowest prices posted within the past two weeks. \n",
    "- get a list of the top X best selling items\n",
    "\n",
    "More information\n",
    "Get a list of every item\n",
    "  - find drop sources\n",
    "  - drop rates\n",
    "  - vaulted y/n\n",
    "   \n"
   ]
  },
  {
   "attachments": {},
   "cell_type": "markdown",
   "metadata": {},
   "source": [
    "## Getting Statics per update information\n",
    "\n",
    "### NOTE\n",
    "Only do this once every update, otherwise just import from the saved file"
   ]
  },
  {
   "cell_type": "code",
   "execution_count": 1,
   "metadata": {},
   "outputs": [],
   "source": [
    "import api_calls as wf\n",
    "\n",
    "# wf.update_information()"
   ]
  },
  {
   "attachments": {},
   "cell_type": "markdown",
   "metadata": {},
   "source": [
    "# Import item information and drop Data\n",
    "\n",
    "this loads all the data from saved files into nested dictionaries for later use"
   ]
  },
  {
   "cell_type": "code",
   "execution_count": 2,
   "metadata": {},
   "outputs": [],
   "source": [
    "item_list = wf.load_items()\n",
    "npc_list = wf.load_npcs()\n",
    "mission_list = wf.load_missions()\n",
    "location_list = wf.load_locations()"
   ]
  },
  {
   "attachments": {},
   "cell_type": "markdown",
   "metadata": {},
   "source": [
    "# Get all the url names for the items, so we can make requests on them"
   ]
  },
  {
   "cell_type": "code",
   "execution_count": 6,
   "metadata": {},
   "outputs": [
    {
     "name": "stdout",
     "output_type": "stream",
     "text": [
      "['secura_dual_cestra', 'creeping_bullseye', 'mutalist_alad_v_assassinate_key', 'irradiating_disarm', 'antimatter_absorb', 'arcane_barrier', 'arcane_ice', 'telos_boltor', 'frost_prime_set', 'catalyzer_link']\n"
     ]
    }
   ],
   "source": [
    "item_urls = wf.url_names(item_list)\n",
    "\n",
    "print(item_urls[:10])"
   ]
  },
  {
   "attachments": {},
   "cell_type": "markdown",
   "metadata": {},
   "source": [
    "## Make Requests\n",
    "Now that we have all the items in a neat list, let us make requests to get the information"
   ]
  },
  {
   "cell_type": "code",
   "execution_count": 3,
   "metadata": {},
   "outputs": [],
   "source": [
    "def find_id(dictionary, target_id):\n",
    "    for key, value in dictionary.items():\n",
    "        if key == 'id' and value == target_id:\n",
    "            return dictionary\n",
    "        elif isinstance(value, dict):\n",
    "            result = find_id(value, target_id)\n",
    "            if result is not None:\n",
    "                return result\n",
    "    return None"
   ]
  },
  {
   "attachments": {},
   "cell_type": "markdown",
   "metadata": {},
   "source": []
  }
 ],
 "metadata": {
  "kernelspec": {
   "display_name": "Python 3",
   "language": "python",
   "name": "python3"
  },
  "language_info": {
   "codemirror_mode": {
    "name": "ipython",
    "version": 3
   },
   "file_extension": ".py",
   "mimetype": "text/x-python",
   "name": "python",
   "nbconvert_exporter": "python",
   "pygments_lexer": "ipython3",
   "version": "3.11.3"
  },
  "orig_nbformat": 4
 },
 "nbformat": 4,
 "nbformat_minor": 2
}
